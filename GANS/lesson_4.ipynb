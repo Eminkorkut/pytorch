{
 "cells": [
  {
   "cell_type": "markdown",
   "id": "6514e176",
   "metadata": {},
   "source": [
    "## GANs"
   ]
  },
  {
   "cell_type": "code",
   "execution_count": 3,
   "id": "24e9953c",
   "metadata": {},
   "outputs": [],
   "source": [
    "import torch\n",
    "import torch.nn as nn\n",
    "import torch.optim as optim\n",
    "import torchvision.transforms as transformers\n",
    "import torchvision.datasets as datasets\n",
    "import torchvision.utils as utils\n",
    "from torch.utils.data import DataLoader\n",
    "import matplotlib.pyplot as plt\n",
    "import numpy as np"
   ]
  },
  {
   "cell_type": "code",
   "execution_count": 4,
   "id": "63d0bbf5",
   "metadata": {},
   "outputs": [],
   "source": [
    "device = torch.device(\"cuda\" if torch.cuda.is_available() else \"cpu\")"
   ]
  },
  {
   "cell_type": "code",
   "execution_count": 5,
   "id": "b401f892",
   "metadata": {},
   "outputs": [],
   "source": [
    "batch_size = 128\n",
    "image_size = 28*28\n",
    "transformer = transformers.Compose([\n",
    "    transformers.ToTensor(),\n",
    "    transformers.Normalize((0.5,), (0.5,))\n",
    "])"
   ]
  },
  {
   "cell_type": "code",
   "execution_count": 6,
   "id": "c19f8d16",
   "metadata": {},
   "outputs": [
    {
     "name": "stderr",
     "output_type": "stream",
     "text": [
      "100%|██████████| 9.91M/9.91M [00:16<00:00, 618kB/s] \n",
      "100%|██████████| 28.9k/28.9k [00:00<00:00, 209kB/s]\n",
      "100%|██████████| 1.65M/1.65M [00:02<00:00, 646kB/s]\n",
      "100%|██████████| 4.54k/4.54k [00:00<00:00, 17.5MB/s]\n"
     ]
    }
   ],
   "source": [
    "dataset = datasets.MNIST(root=\"./data\", train=True, download=True, transform=transformer)"
   ]
  },
  {
   "cell_type": "code",
   "execution_count": 7,
   "id": "968019b9",
   "metadata": {},
   "outputs": [],
   "source": [
    "dataloader = DataLoader(dataset=dataset, batch_size=batch_size, shuffle=True)"
   ]
  },
  {
   "cell_type": "code",
   "execution_count": 15,
   "id": "717e4b57",
   "metadata": {},
   "outputs": [],
   "source": [
    "class Discriminator(nn.Module):\n",
    "    def __init__(self):\n",
    "        super(Discriminator, self).__init__()\n",
    "\n",
    "        self.model = nn.Sequential(\n",
    "            nn.Linear(in_features=image_size, out_features=1024),\n",
    "            nn.LeakyReLU(negative_slope=0.2),\n",
    "            nn.Linear(in_features=1024, out_features=512),\n",
    "            nn.LeakyReLU(negative_slope=0.2),\n",
    "            nn.Linear(in_features=512, out_features=256),\n",
    "            nn.LeakyReLU(negative_slope=0.2),\n",
    "            nn.Linear(in_features=256, out_features=1),\n",
    "            nn.Sigmoid()\n",
    "        )\n",
    "\n",
    "    def forward(self, x):\n",
    "        return self.model(x.view(-1, image_size))"
   ]
  },
  {
   "cell_type": "code",
   "execution_count": 16,
   "id": "c6dd0678",
   "metadata": {},
   "outputs": [],
   "source": [
    "class Generator(nn.Module):\n",
    "    def __init__(self, z_dim):\n",
    "        super(Generator, self).__init__()\n",
    "\n",
    "        self.model = nn.Sequential(\n",
    "            nn.Linear(in_features=z_dim, out_features=256),\n",
    "            nn.ReLU(),\n",
    "            nn.Linear(in_features=256, out_features=512),\n",
    "            nn.ReLU(),\n",
    "            nn.Linear(in_features=512, out_features=1024),\n",
    "            nn.ReLU(),\n",
    "            nn.Linear(in_features=1024, out_features=image_size),\n",
    "            nn.Tanh()\n",
    "\n",
    "        )\n",
    "\n",
    "    def forward(self, x):\n",
    "        return self.model(x).view(-1, 1, 28, 28)"
   ]
  },
  {
   "cell_type": "code",
   "execution_count": 23,
   "id": "8ae0e53c",
   "metadata": {},
   "outputs": [],
   "source": [
    "learning_rate = 0.0002\n",
    "z_dim = 100\n",
    "epochs = 20"
   ]
  },
  {
   "cell_type": "code",
   "execution_count": 24,
   "id": "2c41c002",
   "metadata": {},
   "outputs": [],
   "source": [
    "generator = Generator(z_dim=z_dim).to(device=device)\n",
    "discriminator = Discriminator().to(device=device)"
   ]
  },
  {
   "cell_type": "code",
   "execution_count": 25,
   "id": "50370876",
   "metadata": {},
   "outputs": [],
   "source": [
    "loss_fn = nn.BCELoss()\n",
    "optimizer_generator = optim.Adam(params=generator.parameters(), lr=learning_rate, betas=(0.5, 0.999))\n",
    "optimizer_discriminator = optim.Adam(params=discriminator.parameters(), lr=learning_rate, betas=(0.5, 0.999))"
   ]
  },
  {
   "cell_type": "code",
   "execution_count": 26,
   "id": "0d18a744",
   "metadata": {},
   "outputs": [
    {
     "name": "stdout",
     "output_type": "stream",
     "text": [
      "Epoch: 1/20, Generator Loss: 3.949, Discriminator Loss: 0.444\n",
      "Epoch: 2/20, Generator Loss: 8.668, Discriminator Loss: 0.491\n",
      "Epoch: 3/20, Generator Loss: 2.932, Discriminator Loss: 0.155\n",
      "Epoch: 4/20, Generator Loss: 2.123, Discriminator Loss: 0.457\n",
      "Epoch: 5/20, Generator Loss: 2.649, Discriminator Loss: 0.259\n",
      "Epoch: 6/20, Generator Loss: 5.865, Discriminator Loss: 0.415\n",
      "Epoch: 7/20, Generator Loss: 3.144, Discriminator Loss: 0.349\n",
      "Epoch: 8/20, Generator Loss: 2.945, Discriminator Loss: 0.432\n",
      "Epoch: 9/20, Generator Loss: 1.614, Discriminator Loss: 0.606\n",
      "Epoch: 10/20, Generator Loss: 2.350, Discriminator Loss: 0.632\n",
      "Epoch: 11/20, Generator Loss: 1.817, Discriminator Loss: 0.561\n",
      "Epoch: 12/20, Generator Loss: 1.400, Discriminator Loss: 1.021\n",
      "Epoch: 13/20, Generator Loss: 1.807, Discriminator Loss: 0.633\n",
      "Epoch: 14/20, Generator Loss: 2.249, Discriminator Loss: 0.688\n",
      "Epoch: 15/20, Generator Loss: 1.309, Discriminator Loss: 0.718\n",
      "Epoch: 16/20, Generator Loss: 2.685, Discriminator Loss: 0.857\n",
      "Epoch: 17/20, Generator Loss: 1.764, Discriminator Loss: 0.825\n",
      "Epoch: 18/20, Generator Loss: 1.609, Discriminator Loss: 0.699\n",
      "Epoch: 19/20, Generator Loss: 1.952, Discriminator Loss: 0.688\n",
      "Epoch: 20/20, Generator Loss: 1.464, Discriminator Loss: 0.820\n"
     ]
    }
   ],
   "source": [
    "for epoch in range(epochs):\n",
    "    for i, (real_img, _) in enumerate(dataloader):\n",
    "        real_img = real_img.to(device=device)\n",
    "        batch_size = real_img.size(0)\n",
    "        real_labels = torch.ones(batch_size, 1).to(device=device)\n",
    "        fake_labels = torch.zeros(batch_size, 1).to(device=device)\n",
    "\n",
    "        # discriminator train\n",
    "        z = torch.randn(batch_size, z_dim).to(device=device)\n",
    "        fake_img = generator(z)\n",
    "        real_loss = loss_fn(discriminator(real_img), real_labels)\n",
    "        fake_loss = loss_fn(discriminator(fake_img.detach()), fake_labels)\n",
    "        discriminator_loss = real_loss + fake_loss\n",
    "\n",
    "        optimizer_discriminator.zero_grad()\n",
    "        discriminator_loss.backward()\n",
    "        optimizer_discriminator.step()\n",
    "\n",
    "        # generator train\n",
    "        generator_loss = loss_fn(discriminator(fake_img), real_labels)\n",
    "        optimizer_generator.zero_grad()\n",
    "        generator_loss.backward()\n",
    "        optimizer_generator.step()\n",
    "\n",
    "    print(f\"Epoch: {epoch+1}/{epochs}, Generator Loss: {generator_loss:.3f}, Discriminator Loss: {discriminator_loss:.3f}\")"
   ]
  },
  {
   "cell_type": "code",
   "execution_count": 28,
   "id": "33c2502f",
   "metadata": {},
   "outputs": [
    {
     "data": {
      "image/png": "[encoded data removed]",
      "text/plain": [
       "<Figure size 640x480 with 1 Axes>"
      ]
     },
     "metadata": {},
     "output_type": "display_data"
    }
   ],
   "source": [
    "with torch.no_grad():\n",
    "    z = torch.rand(16, z_dim).to(device=device)\n",
    "    samples_images = generator(z).cpu()\n",
    "    grid = np.transpose(utils.make_grid(samples_images, nrow=4, normalize=True), (1, 2, 0))\n",
    "\n",
    "    plt.imshow(grid)\n",
    "    plt.show()"
   ]
  },
  {
   "cell_type": "code",
   "execution_count": null,
   "id": "528807fa",
   "metadata": {},
   "outputs": [],
   "source": []
  }
 ],
 "metadata": {
  "kernelspec": {
   "display_name": "Python 3",
   "language": "python",
   "name": "python3"
  },
  "language_info": {
   "codemirror_mode": {
    "name": "ipython",
    "version": 3
   },
   "file_extension": ".py",
   "mimetype": "text/x-python",
   "name": "python",
   "nbconvert_exporter": "python",
   "pygments_lexer": "ipython3",
   "version": "3.10.12"
  }
 },
 "nbformat": 4,
 "nbformat_minor": 5
}
